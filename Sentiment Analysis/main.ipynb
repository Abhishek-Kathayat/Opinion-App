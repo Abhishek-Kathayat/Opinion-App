{
 "cells": [
  {
   "cell_type": "code",
   "execution_count": 2,
   "metadata": {},
   "outputs": [
    {
     "name": "stdout",
     "output_type": "stream",
     "text": [
      "positive\n",
      "negative\n",
      "negative\n"
     ]
    }
   ],
   "source": [
    "from preprocess import create_word_features, create_word_features_neg\n",
    "from preprocess import create_word_features_pos, process\n",
    "from classifier import get_classifier\n",
    "import nltk.classify\n",
    "\n",
    "\n",
    "clf = get_classifier()\n",
    "\n",
    "def main_op():\n",
    "    f=open(\"review.txt\")\n",
    "    fileco=f.readlines()\n",
    "    for lines in fileco[0:]:\n",
    "        review_spirit=lines\n",
    "        demo = process(review_spirit)\n",
    "\n",
    "        demo1 = create_word_features(demo)\n",
    "        demo2 =  clf.classify(demo1)\n",
    "        print(demo2)\n",
    "        if(demo2==\"positive\"):\n",
    "            f1=open(\"pos_rev.txt\",\"a\")\n",
    "            f1.write(lines)\n",
    "        else:\n",
    "            f2=open(\"neg_rev.txt\",\"a\")\n",
    "            f2.write(lines)\n",
    "    f.close()\n",
    "        \n",
    "main_op()   \n",
    "\n",
    "\n",
    "    "
   ]
  },
  {
   "cell_type": "code",
   "execution_count": null,
   "metadata": {},
   "outputs": [],
   "source": []
  }
 ],
 "metadata": {
  "kernelspec": {
   "display_name": "Python 3",
   "language": "python",
   "name": "python3"
  },
  "language_info": {
   "codemirror_mode": {
    "name": "ipython",
    "version": 3
   },
   "file_extension": ".py",
   "mimetype": "text/x-python",
   "name": "python",
   "nbconvert_exporter": "python",
   "pygments_lexer": "ipython3",
   "version": "3.7.1"
  }
 },
 "nbformat": 4,
 "nbformat_minor": 2
}
